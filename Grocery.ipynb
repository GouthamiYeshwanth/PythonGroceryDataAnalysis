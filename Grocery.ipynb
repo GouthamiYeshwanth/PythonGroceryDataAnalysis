{
 "cells": [
  {
   "cell_type": "code",
   "execution_count": 1,
   "metadata": {
    "id": "OBF0Quv3mbGO"
   },
   "outputs": [],
   "source": [
    "# Price Data\n",
    "\n",
    "item_dict = {'almonds': 6,\n",
    " 'antioxidant juice': 9,\n",
    " 'avocado': 1,\n",
    " 'black tea': 4,\n",
    " 'burgers': 4,\n",
    " 'champagne': 3,\n",
    " 'chicken': 4,\n",
    " 'chocolate': 7,\n",
    " 'chutney': 7,\n",
    " 'cookies': 7,\n",
    " 'cooking oil': 7,\n",
    " 'cottage cheese': 9,\n",
    " 'eggs': 9,\n",
    " 'energy bar': 9,\n",
    " 'energy drink': 3,\n",
    " 'extra dark chocolate': 8,\n",
    " 'french fries': 7,\n",
    " 'fresh tuna': 9,\n",
    " 'frozen smoothie': 7,\n",
    " 'frozen vegetables': 2,\n",
    " 'green grapes': 8,\n",
    " 'green tea': 8,\n",
    " 'honey': 9,\n",
    " 'light cream': 5,\n",
    " 'low fat yogurt': 4,\n",
    " 'meatballs': 9,\n",
    " 'milk': 5,\n",
    " 'mineral water': 2,\n",
    " 'oil': 9,\n",
    " 'olive oil': 8,\n",
    " 'pet food': 3,\n",
    " 'protein bar': 1,\n",
    " 'salad': 7,\n",
    " 'salmon': 3,\n",
    " 'shallot': 6,\n",
    " 'shrimp': 2,\n",
    " 'soup': 2,\n",
    " 'spaghetti': 6,\n",
    " 'spinach': 7,\n",
    " 'tomato juice': 8,\n",
    " 'tomatoes': 5,\n",
    " 'turkey': 8,\n",
    " 'vegetables mix': 3,\n",
    " 'whole wheat flour': 5,\n",
    " 'whole wheat pasta': 5,\n",
    " 'whole wheat rice': 4,\n",
    " 'yams': 7}"
   ]
  },
  {
   "cell_type": "code",
   "execution_count": 2,
   "metadata": {
    "id": "_uutgZt4mcgz"
   },
   "outputs": [],
   "source": [
    "# transaction data\n",
    "\n",
    "transaction_data = \\\n",
    "[['shrimp', 'almonds', 'avocado', 'vegetables mix', 'green grapes', 'whole wheat flour', 'yams', 'cottage cheese', 'energy drink', 'tomato juice', 'low fat yogurt', 'green tea', 'honey', 'salad', 'mineral water', 'salmon', 'antioxidant juice', 'frozen smoothie', 'spinach', 'olive oil'],\n",
    "['burgers', 'meatballs', 'eggs'],\n",
    "['chutney'],\n",
    "['turkey', 'avocado'],\n",
    "['mineral water', 'milk', 'energy bar', 'whole wheat rice', 'green tea'],\n",
    "['low fat yogurt'],\n",
    "['whole wheat pasta', 'french fries'],\n",
    "['soup', 'light cream', 'shallot'],\n",
    "['frozen vegetables', 'spaghetti', 'green tea'],\n",
    "['french fries'],\n",
    "['eggs', 'pet food'],\n",
    "['cookies'],\n",
    "['turkey', 'burgers', 'mineral water', 'eggs', 'cooking oil'],\n",
    "['spaghetti', 'champagne', 'cookies'],\n",
    "['mineral water', 'salmon'],\n",
    "['mineral water'],\n",
    "['shrimp', 'chocolate', 'chicken', 'honey', 'oil', 'cooking oil', 'low fat yogurt'],\n",
    "['turkey', 'eggs'],\n",
    "['turkey', 'fresh tuna', 'tomatoes', 'spaghetti', 'mineral water', 'black tea', 'salmon', 'eggs', 'chicken', 'extra dark chocolate'],\n",
    "['meatballs', 'milk', 'honey', 'french fries', 'protein bar']]"
   ]
  },
  {
   "cell_type": "code",
   "execution_count": 3,
   "metadata": {
    "id": "lTmOHxeVmjt0"
   },
   "outputs": [],
   "source": [
    "#future reference change item_dict to cost_dict\n",
    "cost_dict = item_dict"
   ]
  },
  {
   "cell_type": "markdown",
   "metadata": {},
   "source": [
    "Q1. Based on customer demand, items keep changing in the store. Your first task is to create a function that lets the admin add or remove items from the store directory(Cost dictionary).\n",
    "\n",
    "The code should help admin to accomplish the following tasks:\n",
    "1. Find how many unique items are present in the data?  (Hint: It will correspond to the number of key pairs in the Cost dictionary)"
   ]
  },
  {
   "cell_type": "code",
   "execution_count": 4,
   "metadata": {},
   "outputs": [
    {
     "name": "stdout",
     "output_type": "stream",
     "text": [
      "Total number of unique items present in the data is:  47\n"
     ]
    }
   ],
   "source": [
    "#total unique items present in the dictionary\n",
    "unique_items = len(list(cost_dict.keys()))\n",
    "print(\"Total number of unique items present in the data is: \", unique_items)"
   ]
  },
  {
   "cell_type": "markdown",
   "metadata": {},
   "source": [
    "2. Find the total number of transactions?"
   ]
  },
  {
   "cell_type": "code",
   "execution_count": 5,
   "metadata": {},
   "outputs": [
    {
     "name": "stdout",
     "output_type": "stream",
     "text": [
      "Total number of transactions are:  20\n"
     ]
    }
   ],
   "source": [
    "total_num_transactions = len(transaction_data)\n",
    "print(\"Total number of transactions are: \", total_num_transactions)"
   ]
  },
  {
   "cell_type": "markdown",
   "metadata": {},
   "source": [
    "3. Add items, try adding the item “banana” in stores. The cost of this item is $5. Add the item “banana” to the Cost dictionary. "
   ]
  },
  {
   "cell_type": "code",
   "execution_count": 6,
   "metadata": {},
   "outputs": [
    {
     "data": {
      "text/plain": [
       "5"
      ]
     },
     "execution_count": 6,
     "metadata": {},
     "output_type": "execute_result"
    }
   ],
   "source": [
    "#add an key \"banana\" with value = 5 in the cost dict\n",
    "cost_dict[\"banana\"] = 5\n",
    "#verify added key value pair\n",
    "cost_dict.get(\"banana\")"
   ]
  },
  {
   "cell_type": "markdown",
   "metadata": {},
   "source": [
    "4. Use a function named add_item( ) to automatically add an item to the Cost dictionary given its name and price."
   ]
  },
  {
   "cell_type": "code",
   "execution_count": 7,
   "metadata": {},
   "outputs": [],
   "source": [
    "def add_item(name, price):\n",
    "    if name in list(cost_dict.keys()):\n",
    "        cost_dict.update({name:price})\n",
    "    else:\n",
    "        cost_dict[name] = price"
   ]
  },
  {
   "cell_type": "markdown",
   "metadata": {},
   "source": [
    "Remove an item: for example: if the customers at Walmart do not seem to be purchasing “banana,” and the store decides to discontinue this item. The function to should be able to remove the item “banana” from the Cost dictionary\n",
    "1. Create a function called remove_item( ) to automatically remove an item from the Cost dictionary given its name."
   ]
  },
  {
   "cell_type": "code",
   "execution_count": 8,
   "metadata": {},
   "outputs": [],
   "source": [
    "def remove_item(name):\n",
    "    if name in list(cost_dict.keys()):\n",
    "        del cost_dict[name]\n",
    "    else:\n",
    "        print(\"no item with the name: \", name)"
   ]
  },
  {
   "cell_type": "code",
   "execution_count": 9,
   "metadata": {},
   "outputs": [],
   "source": [
    "# Remove an item called \"banana\" from cost_dict\n",
    "remove_item(\"banana\")"
   ]
  },
  {
   "cell_type": "markdown",
   "metadata": {},
   "source": [
    "Q2. Once a customer has completed shopping, they need to be billed for the total amount of all the items. This can be done automatically by swiping each item’s barcode on a checkout system. Your second task is to build the software underlying the checkout system, which finds the total cost of all the items in a customer’s cart, including taxes:"
   ]
  },
  {
   "cell_type": "markdown",
   "metadata": {},
   "source": [
    "1. Write the code, to find the price of an item from the cost dictionary"
   ]
  },
  {
   "cell_type": "code",
   "execution_count": 10,
   "metadata": {},
   "outputs": [],
   "source": [
    "def find_price(name):\n",
    "    if name in list(cost_dict.keys()):\n",
    "        return cost_dict.get(name)\n",
    "    else:\n",
    "        return 0"
   ]
  },
  {
   "cell_type": "code",
   "execution_count": 11,
   "metadata": {},
   "outputs": [
    {
     "name": "stdout",
     "output_type": "stream",
     "text": [
      "The price of an item is:  3\n"
     ]
    }
   ],
   "source": [
    "# 1.1Find the price of salmon from the cost dictionary\n",
    "salmon_price = find_price(\"salmon\")\n",
    "print(\"The price of an item is: \", salmon_price)"
   ]
  },
  {
   "cell_type": "markdown",
   "metadata": {},
   "source": [
    "2. Write a code that helps the administrator find any particular transaction in the sequence"
   ]
  },
  {
   "cell_type": "code",
   "execution_count": 12,
   "metadata": {},
   "outputs": [],
   "source": [
    "def find_transaction(transaction_num):\n",
    "    if transaction_num in list(range(0, len(transaction_data))):\n",
    "        return transaction_data[transaction_num - 1]\n",
    "    else:\n",
    "        return []"
   ]
  },
  {
   "cell_type": "code",
   "execution_count": 13,
   "metadata": {},
   "outputs": [
    {
     "name": "stdout",
     "output_type": "stream",
     "text": [
      "Transaction data:  ['frozen vegetables', 'spaghetti', 'green tea']\n"
     ]
    }
   ],
   "source": [
    "# 2.1 Try finding the ninth transaction from the data\n",
    "transaction_details = find_transaction(9)\n",
    "print(\"Transaction data: \", transaction_details)"
   ]
  },
  {
   "cell_type": "code",
   "execution_count": 14,
   "metadata": {},
   "outputs": [
    {
     "name": "stdout",
     "output_type": "stream",
     "text": [
      "The number of items in ninth transaction is:  3\n"
     ]
    }
   ],
   "source": [
    "# 2.2 How many items are present in the ninth transaction?\n",
    "print(\"The number of items in ninth transaction is: \", len(transaction_details))"
   ]
  },
  {
   "cell_type": "markdown",
   "metadata": {},
   "source": [
    "2.3 Find the total cost of the ninth transaction from the array of transactions. Example: Input: [‘avocado’, ‘chutney’, ‘cookies’], Output: 15"
   ]
  },
  {
   "cell_type": "code",
   "execution_count": 15,
   "metadata": {},
   "outputs": [
    {
     "name": "stdout",
     "output_type": "stream",
     "text": [
      "Total cost of ninth transaction is:  16\n"
     ]
    }
   ],
   "source": [
    "total = 0\n",
    "transaction_details = find_transaction(9)\n",
    "for val in transaction_details:\n",
    "    if val in list(cost_dict.keys()):\n",
    "        total = total + cost_dict.get(val)\n",
    "print(\"Total cost of ninth transaction is: \", total)"
   ]
  },
  {
   "cell_type": "markdown",
   "metadata": {},
   "source": [
    "2.4 As per government guidelines, a mandatory 5% tax is applied to the total cost of a transaction. Find the final price of the second transaction after applicable taxes have been implemented."
   ]
  },
  {
   "cell_type": "code",
   "execution_count": 16,
   "metadata": {},
   "outputs": [
    {
     "name": "stdout",
     "output_type": "stream",
     "text": [
      "Total cost of second transactions is:  23.1\n"
     ]
    }
   ],
   "source": [
    "total = 0\n",
    "transaction_details = find_transaction(2)\n",
    "for val in transaction_details:\n",
    "    if val in list(cost_dict.keys()):\n",
    "        total = total + cost_dict.get(val)\n",
    "total = total + (total * 0.05)\n",
    "    \n",
    "print(\"Total cost of second transactions is: \", total)"
   ]
  },
  {
   "cell_type": "markdown",
   "metadata": {},
   "source": [
    "2.5 Create a function named find_total( ) to find the final price of any transaction after applicable taxes have been implemented.\n"
   ]
  },
  {
   "cell_type": "code",
   "execution_count": 17,
   "metadata": {},
   "outputs": [],
   "source": [
    "# find_total of any transaction given transaction_num\n",
    "def find_total(transaction_num):\n",
    "    transaction_details = transaction_data[transaction_num -1]\n",
    "    total = 0\n",
    "    for val in transaction_details:\n",
    "        if val in list(cost_dict.keys()):\n",
    "            total = total + cost_dict.get(val)\n",
    "    # apply taxes on total\n",
    "    total = total + (total * 0.05)\n",
    "    return total"
   ]
  },
  {
   "cell_type": "code",
   "execution_count": 18,
   "metadata": {},
   "outputs": [
    {
     "name": "stdout",
     "output_type": "stream",
     "text": [
      "Total price of 2nd transaction is:  23.1\n"
     ]
    }
   ],
   "source": [
    "#find total of 2nd transaction\n",
    "print(\"Total price of 2nd transaction is: \", find_total(2))"
   ]
  },
  {
   "cell_type": "markdown",
   "metadata": {},
   "source": [
    "Q3. There is always a flow of items in and out of stores, which need to be tracked so that the store can place an order in case an item is running out of stock. Your third task is to build an inventory management system that will count the total number of items purchased from the transaction data. This inventory management system will go through each of the transactions one by one and increment the value for an item if it is found in a transaction."
   ]
  },
  {
   "cell_type": "markdown",
   "metadata": {},
   "source": [
    "3.1 What is the data structure that can be used to count the frequency of items purchased (from the transaction data)?"
   ]
  },
  {
   "cell_type": "code",
   "execution_count": 19,
   "metadata": {},
   "outputs": [],
   "source": [
    "# we can use dictionary to store the items and it's frequency\n",
    "frequency_dict = {}"
   ]
  },
  {
   "cell_type": "code",
   "execution_count": 20,
   "metadata": {},
   "outputs": [],
   "source": [
    "# 3.2 Create a frequency counter to count the number of items:\n",
    "for transaction in transaction_data:\n",
    "    for item in transaction:\n",
    "        if item not in list(frequency_dict.keys()):\n",
    "            frequency_dict[item] = 1\n",
    "        else:\n",
    "            frequency_dict[item] = frequency_dict.get(item) + 1"
   ]
  },
  {
   "cell_type": "markdown",
   "metadata": {},
   "source": [
    " 3.3 A new transaction has just been made. This transaction includes “honey,” “pet food,” and “shrimp.” Update the frequency counter to reflect this new transaction."
   ]
  },
  {
   "cell_type": "code",
   "execution_count": 21,
   "metadata": {},
   "outputs": [],
   "source": [
    "# create a list representing new transaction\n",
    "new_transaction = [\"honey\", \"pet food\", \"shrimp\"]\n",
    "# update the frequency_dict for the items in new transaction\n",
    "for val in new_transaction:\n",
    "    if val in list(frequency_dict.keys()):\n",
    "        frequency_dict[val] = frequency_dict[val] + 1\n",
    "    else:\n",
    "        frequency_dict[val] = 1"
   ]
  },
  {
   "cell_type": "markdown",
   "metadata": {},
   "source": [
    "3.4 Create a function named update_counter( ) to automatically update the frequency counter in case any new transaction is made."
   ]
  },
  {
   "cell_type": "code",
   "execution_count": 22,
   "metadata": {},
   "outputs": [],
   "source": [
    "def update_counter(new_transaction):\n",
    "    # update frequency dict for items in the new_transaction\n",
    "    for val in new_transaction:\n",
    "        if val in list(frequency_dict.keys()):\n",
    "            frequency_dict[val] = frequency_dict[val] + 1\n",
    "        else:\n",
    "            frequency_dict[val] = 1\n",
    "    "
   ]
  },
  {
   "cell_type": "code",
   "execution_count": 23,
   "metadata": {},
   "outputs": [
    {
     "name": "stdout",
     "output_type": "stream",
     "text": [
      "{'shrimp': 3, 'almonds': 1, 'avocado': 2, 'vegetables mix': 1, 'green grapes': 1, 'whole wheat flour': 1, 'yams': 1, 'cottage cheese': 1, 'energy drink': 1, 'tomato juice': 1, 'low fat yogurt': 3, 'green tea': 3, 'honey': 4, 'salad': 1, 'mineral water': 6, 'salmon': 3, 'antioxidant juice': 1, 'frozen smoothie': 1, 'spinach': 1, 'olive oil': 1, 'burgers': 2, 'meatballs': 2, 'eggs': 5, 'chutney': 1, 'turkey': 4, 'milk': 2, 'energy bar': 1, 'whole wheat rice': 1, 'whole wheat pasta': 1, 'french fries': 3, 'soup': 1, 'light cream': 1, 'shallot': 1, 'frozen vegetables': 1, 'spaghetti': 3, 'pet food': 2, 'cookies': 2, 'cooking oil': 2, 'champagne': 1, 'chocolate': 1, 'chicken': 2, 'oil': 1, 'fresh tuna': 1, 'tomatoes': 1, 'black tea': 1, 'extra dark chocolate': 1, 'protein bar': 1}\n"
     ]
    }
   ],
   "source": [
    "# check the initial frequency data\n",
    "print(frequency_dict)"
   ]
  },
  {
   "cell_type": "code",
   "execution_count": 24,
   "metadata": {},
   "outputs": [
    {
     "name": "stdout",
     "output_type": "stream",
     "text": [
      "{'shrimp': 4, 'almonds': 1, 'avocado': 2, 'vegetables mix': 1, 'green grapes': 1, 'whole wheat flour': 1, 'yams': 1, 'cottage cheese': 1, 'energy drink': 1, 'tomato juice': 1, 'low fat yogurt': 3, 'green tea': 3, 'honey': 5, 'salad': 1, 'mineral water': 6, 'salmon': 3, 'antioxidant juice': 1, 'frozen smoothie': 1, 'spinach': 1, 'olive oil': 1, 'burgers': 2, 'meatballs': 2, 'eggs': 5, 'chutney': 1, 'turkey': 4, 'milk': 2, 'energy bar': 1, 'whole wheat rice': 1, 'whole wheat pasta': 1, 'french fries': 3, 'soup': 1, 'light cream': 1, 'shallot': 1, 'frozen vegetables': 1, 'spaghetti': 3, 'pet food': 3, 'cookies': 2, 'cooking oil': 2, 'champagne': 1, 'chocolate': 1, 'chicken': 2, 'oil': 1, 'fresh tuna': 1, 'tomatoes': 1, 'black tea': 1, 'extra dark chocolate': 1, 'protein bar': 1}\n"
     ]
    }
   ],
   "source": [
    "#execute the function\n",
    "new_transaction = [\"honey\", \"pet food\", \"shrimp\"]\n",
    "update_counter(new_transaction)\n",
    "# check the updated data\n",
    "print(frequency_dict)"
   ]
  },
  {
   "cell_type": "markdown",
   "metadata": {},
   "source": [
    "Q4. Walmart is running a discount week for Christmas! The sales manager has decided to keep a 20% discount on the top three selling items. Use the frequency counter that you created in Question 3 to solve this problem:"
   ]
  },
  {
   "cell_type": "code",
   "execution_count": 25,
   "metadata": {},
   "outputs": [
    {
     "name": "stdout",
     "output_type": "stream",
     "text": [
      "The top selling items:  ['mineral water', 'honey', 'eggs']\n",
      "Initial values of top selling items\n",
      "mineral water:2\n",
      "honey:9\n",
      "eggs:9\n",
      "Updated values of top selling items\n",
      "mineral water:1.6\n",
      "honey:7.2\n",
      "eggs:7.2\n"
     ]
    }
   ],
   "source": [
    "#4.1 What are the top-selling items\n",
    "# The items which are sold more frequently\n",
    "# sort the keys based on frequency count in frequency_dict in descending order to get top 3 selling items\n",
    "sorted_keys = sorted(frequency_dict, key=lambda item: frequency_dict[item], reverse= True)\n",
    "top_selling_items =  sorted_keys[0:3]\n",
    "print(\"The top selling items: \", top_selling_items)\n",
    "\n",
    "#print initial cost of top selling items\n",
    "print(\"Initial values of top selling items\")\n",
    "for val in top_selling_items:\n",
    "    print(val, end=\":\")\n",
    "    print(cost_dict.get(val))\n",
    "\n",
    "# update the price of the top selling items with 20% discount in cost_dict on christmas week\n",
    "for item in top_selling_items:\n",
    "    if item in cost_dict.keys():\n",
    "        cost_dict[item] = cost_dict[item] - (cost_dict[item] * 0.2)\n",
    "        \n",
    "#print updated values of top selling items\n",
    "print(\"Updated values of top selling items\")\n",
    "for val in top_selling_items:\n",
    "    print(val, end=\":\")\n",
    "    print(cost_dict.get(val))\n",
    "\n",
    "        "
   ]
  },
  {
   "cell_type": "markdown",
   "metadata": {},
   "source": [
    "4.2 In real life, departmental stores have thousands of items and millions of transactions in their databases. In such situations, it becomes important to use an effective searching algorithm to navigate through the data. You need to sort the frequency counter dictionary by the value count(or the number of items). For example, if there are 3 apples, 5 bananas and 1 watermelon, the sorted list would be banana, apple, watermelon. So you need to sort the entire dictionary (with keys and values) based on the value count. Sort the frequency counter using the sorting algorithms provided in the table below. Additionally, for each of the sorting methods, leverage the time function in Python to see how many milliseconds it takes for an algorithm to sort items."
   ]
  },
  {
   "cell_type": "code",
   "execution_count": 26,
   "metadata": {},
   "outputs": [
    {
     "data": {
      "text/plain": [
       "{'almonds': 1,\n",
       " 'vegetables mix': 1,\n",
       " 'green grapes': 1,\n",
       " 'whole wheat flour': 1,\n",
       " 'yams': 1,\n",
       " 'cottage cheese': 1,\n",
       " 'energy drink': 1,\n",
       " 'tomato juice': 1,\n",
       " 'salad': 1,\n",
       " 'antioxidant juice': 1,\n",
       " 'frozen smoothie': 1,\n",
       " 'spinach': 1,\n",
       " 'olive oil': 1,\n",
       " 'chutney': 1,\n",
       " 'energy bar': 1,\n",
       " 'whole wheat rice': 1,\n",
       " 'whole wheat pasta': 1,\n",
       " 'soup': 1,\n",
       " 'light cream': 1,\n",
       " 'shallot': 1,\n",
       " 'frozen vegetables': 1,\n",
       " 'champagne': 1,\n",
       " 'chocolate': 1,\n",
       " 'oil': 1,\n",
       " 'fresh tuna': 1,\n",
       " 'tomatoes': 1,\n",
       " 'black tea': 1,\n",
       " 'extra dark chocolate': 1,\n",
       " 'protein bar': 1,\n",
       " 'avocado': 2,\n",
       " 'burgers': 2,\n",
       " 'meatballs': 2,\n",
       " 'milk': 2,\n",
       " 'cookies': 2,\n",
       " 'cooking oil': 2,\n",
       " 'chicken': 2,\n",
       " 'low fat yogurt': 3,\n",
       " 'green tea': 3,\n",
       " 'salmon': 3,\n",
       " 'french fries': 3,\n",
       " 'spaghetti': 3,\n",
       " 'pet food': 3,\n",
       " 'shrimp': 4,\n",
       " 'turkey': 4,\n",
       " 'honey': 5,\n",
       " 'eggs': 5,\n",
       " 'mineral water': 6}"
      ]
     },
     "execution_count": 26,
     "metadata": {},
     "output_type": "execute_result"
    }
   ],
   "source": [
    "# sort the dictionary keys based on value counts in ascending order\n",
    "sorted_keys = sorted(frequency_dict, key=lambda item: frequency_dict[item])\n",
    "# craete sorted dict of frequency_dic or create the dictionary with items based on the value counts in ascending order\n",
    "sorted_dict = {key: frequency_dict[key] for key in sorted_keys}\n",
    "#print sorted frequency_table\n",
    "sorted_dict"
   ]
  },
  {
   "cell_type": "code",
   "execution_count": 27,
   "metadata": {},
   "outputs": [],
   "source": [
    "#sort frequency counter\n",
    "frequencies = list(frequency_dict.values())"
   ]
  },
  {
   "cell_type": "markdown",
   "metadata": {},
   "source": [
    "Define sorting algorithms to sort the value counts or frequency counts of an items in frequency_dict"
   ]
  },
  {
   "cell_type": "code",
   "execution_count": 28,
   "metadata": {},
   "outputs": [],
   "source": [
    "#define merge sort\n",
    "def merge_sort(data):\n",
    "    if len(data) > 1:\n",
    "        # find the middle value\n",
    "        mid = len(data)//2\n",
    "        # find the left half\n",
    "        left = data[:mid]\n",
    "        # find the right half\n",
    "        right = data[mid:]\n",
    "        # Sorting the left part\n",
    "        merge_sort(left)\n",
    "        # Sorting the right half\n",
    "        merge_sort(right)\n",
    "\n",
    "        i = j = 0\n",
    "        k = 0\n",
    "  \n",
    "        # merge the data\n",
    "        while i < len(left) and j < len(right):\n",
    "            if left[i] < right[j]:\n",
    "                data[k] = left[i]\n",
    "                i = i + 1\n",
    "            else:\n",
    "                data[k] = right[j]\n",
    "                j = j + 1\n",
    "            k = k + 1\n",
    "  \n",
    "        #Add if any element is missed\n",
    "        while i < len(left):\n",
    "            data[k] = left[i]\n",
    "            i = i + 1\n",
    "            k = k + 1\n",
    "  \n",
    "        while j < len(right):\n",
    "            data[k] = right[j]\n",
    "            j = j + 1\n",
    "            k = k + 1\n",
    "    return data, \"merge_sort\""
   ]
  },
  {
   "cell_type": "code",
   "execution_count": 29,
   "metadata": {},
   "outputs": [],
   "source": [
    "#define selection sort\n",
    "def selection_sort(data):\n",
    "    for i in range(len(data)):\n",
    "        key = data[i]\n",
    "        j=i+1\n",
    "        min_val = data[i]\n",
    "        min_index = i\n",
    "        while j<len(data):\n",
    "            if data[j] < min_val:\n",
    "                min_val = data[j]\n",
    "                min_index = j\n",
    "            j = j + 1\n",
    "        data[i] = data[min_index]\n",
    "        data[min_index] = key\n",
    "    return data, \"selection_sort\""
   ]
  },
  {
   "cell_type": "code",
   "execution_count": 30,
   "metadata": {},
   "outputs": [],
   "source": [
    "# define insertion sort\n",
    "def insertion_sort(data):\n",
    "    for i in range(len(data)):\n",
    "        key = data[i]\n",
    "        j = i-1\n",
    "        while j >=0 and data[j] > key:\n",
    "            data[j+1] = data[j]\n",
    "            j = j-1\n",
    "        data[j+1] = key\n",
    "    return data, \"insertion_sort\""
   ]
  },
  {
   "cell_type": "markdown",
   "metadata": {},
   "source": [
    "1. Using datetime package find the start and end time required to run different sorting algorithms on frequency counts \n",
    "2. find the difference between end and start in milliseconds and add it into dictionary \"sort_time\" with key as sorting algorithm name and value as difference in milli seconds\n",
    "3. Sort the dictionary based on the values to find the ranking of sorting algorithms based on time consumed "
   ]
  },
  {
   "cell_type": "code",
   "execution_count": 31,
   "metadata": {},
   "outputs": [
    {
     "name": "stdout",
     "output_type": "stream",
     "text": [
      "The time taken by different sorting algorithms:  {'merge_sort': 0.0, 'insertion_sort': 0.0, 'selection_sort': 0.39399999999999996}\n"
     ]
    }
   ],
   "source": [
    "# calculate the time taken by different sorting algorithms sort the data\n",
    "import datetime\n",
    "sorting_algorithms = [merge_sort , insertion_sort, selection_sort]\n",
    "time_consumed = {}\n",
    "for algo in sorting_algorithms:\n",
    "    start = datetime.datetime.now()\n",
    "    sorted_data, name = algo(list(frequency_dict.values()))\n",
    "    end = datetime.datetime.now()\n",
    "    diff = end-start\n",
    "    time_consumed[name] = diff.total_seconds() * 1000\n",
    "    \n",
    "print(\"The time taken by different sorting algorithms: \", time_consumed)"
   ]
  },
  {
   "cell_type": "markdown",
   "metadata": {},
   "source": [
    "4.3Rank the sorting algorithms in order of the time they take to sort items."
   ]
  },
  {
   "cell_type": "code",
   "execution_count": 32,
   "metadata": {},
   "outputs": [
    {
     "name": "stdout",
     "output_type": "stream",
     "text": [
      "In the order of time taken by algorithm to sort\n",
      "{'merge_sort': 0.0, 'insertion_sort': 0.0, 'selection_sort': 0.39399999999999996}\n"
     ]
    }
   ],
   "source": [
    "sorted_keys = sorted(time_consumed, key=lambda item: time_consumed[item])\n",
    "time_consumed = {key: time_consumed[key] for key in sorted_keys}\n",
    "print(\"In the order of time taken by algorithm to sort\")\n",
    "print(time_consumed)"
   ]
  },
  {
   "cell_type": "markdown",
   "metadata": {},
   "source": [
    "based on the above result: Merge Sort takes less time compare to insertion_sort and selection_sort\n",
    "Ranking of sorting algorithm as follows\n",
    "1. Merge sort\n",
    "2. Insertion sort | Selection sort"
   ]
  }
 ],
 "metadata": {
  "colab": {
   "name": "Data.ipynb",
   "provenance": []
  },
  "kernelspec": {
   "display_name": "Python 3",
   "language": "python",
   "name": "python3"
  },
  "language_info": {
   "codemirror_mode": {
    "name": "ipython",
    "version": 3
   },
   "file_extension": ".py",
   "mimetype": "text/x-python",
   "name": "python",
   "nbconvert_exporter": "python",
   "pygments_lexer": "ipython3",
   "version": "3.7.10"
  }
 },
 "nbformat": 4,
 "nbformat_minor": 1
}
